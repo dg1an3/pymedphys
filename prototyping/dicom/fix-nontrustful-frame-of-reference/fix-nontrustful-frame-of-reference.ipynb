{
 "cells": [
  {
   "cell_type": "code",
   "execution_count": null,
   "metadata": {},
   "outputs": [],
   "source": [
    "import pynetdicom\n",
    "import pydicom\n",
    "pynetdicom.debug_logger()"
   ]
  },
  {
   "cell_type": "code",
   "execution_count": null,
   "metadata": {},
   "outputs": [],
   "source": [
    "import pydicom\n",
    "dataset = pydicom.dcmread('path/to/file')\n",
    "\n",
    "# now collect the structure sets\n",
    "dicom_structure_sets = []\n",
    "dicom_sros = []\n",
    "dicom_ct_images = {}\n",
    "for instance in dcm_instances:\n",
    "    if is_structureset(instance):\n",
    "        for_uid = instance['ReferencedFrameOfReferenceUid']\n",
    "        series_uid = instance['ReferencedSeriesUid']\n",
    "        instance_uids = [instance['ReferencedInstanceUid']]\n",
    "        dicom_structure_sets.add((for_uid, series_uid, instance_uids))\n",
    "    if is_ct(instance):\n",
    "        # find the corresponding structure set\n",
    "        dicom_ct_images[\"\"] = instance\n"
   ]
  },
  {
   "cell_type": "code",
   "execution_count": null,
   "metadata": {},
   "outputs": [],
   "source": [
    "# match any sros to structure sets\n",
    "# now iterate over the structure sets and see if any are complete\n",
    "for sset in dicom_structure_sets:\n",
    "    # for any complete structure sets, see if there are complete sros\n",
    "    for sro in dicom_sros:\n",
    "        for instance in sro['ReferencedInstanceUid']:\n",
    "            pass\n",
    "\n",
    "    for instance in sset['ReferencedInstanceUid']:\n",
    "        if not instance in dicom_ct_images:\n",
    "            continue\n",
    "\n",
    "# fix up the frames-of-reference\n",
    "# forward completed sset, sro, and ct images"
   ]
  },
  {
   "cell_type": "code",
   "execution_count": null,
   "metadata": {},
   "outputs": [],
   "source": [
    "# how to clean up the cache?  mark when forwarded"
   ]
  }
 ],
 "metadata": {
  "kernelspec": {
   "display_name": "Python 3",
   "language": "python",
   "name": "python3"
  },
  "language_info": {
   "codemirror_mode": {
    "name": "ipython",
    "version": 3
   },
   "file_extension": ".py",
   "mimetype": "text/x-python",
   "name": "python",
   "nbconvert_exporter": "python",
   "pygments_lexer": "ipython3",
   "version": "3.8.6-final"
  }
 },
 "nbformat": 4,
 "nbformat_minor": 2
}
