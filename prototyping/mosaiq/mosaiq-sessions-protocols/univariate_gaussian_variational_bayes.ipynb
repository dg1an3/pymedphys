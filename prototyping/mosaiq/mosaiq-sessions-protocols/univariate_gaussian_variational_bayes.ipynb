{
 "cells": [
  {
   "cell_type": "markdown",
   "metadata": {},
   "source": [
    "Following along with\n",
    "\n",
    "https://bjlkeng.github.io/posts/variational-bayes-and-the-mean-field-approximation/"
   ]
  },
  {
   "cell_type": "code",
   "execution_count": null,
   "metadata": {},
   "outputs": [],
   "source": [
    "from scipy.stats import gamma\n",
    "import matplotlib.pyplot as plt\n",
    "\n",
    "# show us some gamma\n",
    "ALPHA_0_PRIOR, BETA_0_PRIOR = 1.99, 0.5\n",
    "\n",
    "xs = np.linspace(gamma.ppf(0.01, ALPHA_0_PRIOR, scale=1.0/BETA_0_PRIOR),\n",
    "                gamma.ppf(0.99, alpha, scale=1.0/BETA_0_PRIOR), 100)\n",
    "                \n",
    "fig, ax = plt.subplots(1, 1)\n",
    "ax.plot(xs, gamma.pdf(xs, ALPHA_0_PRIOR, scale=1.0/BETA_0_PRIOR), 'r-', lw=5, alpha=0.6, label='gamma pdf')\n",
    "fig.show()"
   ]
  },
  {
   "cell_type": "code",
   "execution_count": null,
   "metadata": {},
   "outputs": [],
   "source": [
    "import numpy as np\n",
    "\n",
    "MU_0_PRIOR, K0_PRIOR =  (0.0, 0.0, 0.0), 1.0\n",
    "\n",
    "use_mode = True\n",
    "if use_mode:\n",
    "    tau, y_max = 0.0, 0.0\n",
    "    for x in xs:\n",
    "        y = gamma.pdf(x, ALPHA_0_PRIOR, scale=1.0/BETA_0_PRIOR)\n",
    "        if y > y_max: \n",
    "            tau, y_max = x, y\n",
    "else:\n",
    "    # otherwise generate a random pull\n",
    "    tau = gamma.rvs(ALPHA_0_PRIOR, scale=1.0/BETA_0_PRIOR)\n",
    "\n",
    "mu = np.random.normal(MU_0_PRIOR, 1.0/(K0_PRIOR*tau))\n",
    "print(f\"Normal distribution mu: {[round(x,1) for x in mu]}  tau: {round(tau,1)}\")\n",
    "\n",
    "offsets = np.random.normal(mu, 1.0/tau, size=[100,3])\n",
    "for offset in offsets[0:5]:\n",
    "    print([round(x,1) for x in offset])\n",
    "\n",
    "fig = plt.figure()\n",
    "ax = fig.add_subplot(111, projection='3d')\n",
    "ax.scatter(offsets[:,0], offsets[:,1], offsets[:,2], marker='o')"
   ]
  },
  {
   "cell_type": "code",
   "execution_count": null,
   "metadata": {},
   "outputs": [],
   "source": []
  }
 ],
 "metadata": {
  "kernelspec": {
   "display_name": "Python 3.8.6 64-bit",
   "metadata": {
    "interpreter": {
     "hash": "0683780d03ee1195a9e1ac19e401b8f6c3447ee82d0b15d335dacfb764b91f68"
    }
   },
   "name": "python3"
  },
  "language_info": {
   "codemirror_mode": {
    "name": "ipython",
    "version": 3
   },
   "file_extension": ".py",
   "mimetype": "text/x-python",
   "name": "python",
   "nbconvert_exporter": "python",
   "pygments_lexer": "ipython3",
   "version": "3.8.6-final"
  }
 },
 "nbformat": 4,
 "nbformat_minor": 2
}
