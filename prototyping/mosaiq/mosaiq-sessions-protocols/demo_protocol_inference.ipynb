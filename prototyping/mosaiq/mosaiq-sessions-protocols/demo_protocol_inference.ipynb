{
 "cells": [
  {
   "cell_type": "code",
   "execution_count": null,
   "metadata": {},
   "outputs": [],
   "source": [
    "import pandas as pd\n",
    "import numpy as np\n",
    "models_df = \\\n",
    "    pd.DataFrame([[0.2] + [0.9] * 15,\n",
    "                    [0.1] + [0.2] * 15,\n",
    "                    [0.7] + [0.95] * 5 + [0.2] * 10],\n",
    "                    columns=['prob']+[f\"s{n}\" for n in range(1,16)],\n",
    "                    index=['daily_imaging','weekly_verification','trending'])\n",
    "models_df"
   ]
  },
  {
   "cell_type": "code",
   "execution_count": null,
   "metadata": {},
   "outputs": [],
   "source": [
    "print(models_df.loc['daily_imaging'])\n",
    "print('--------------------')\n",
    "print(models_df['prob'])"
   ]
  },
  {
   "cell_type": "code",
   "execution_count": null,
   "metadata": {},
   "outputs": [],
   "source": [
    "def priors_by_model(has_session_offsets):\n",
    "    priors_results = {}\n",
    "    for key in models_df.index:\n",
    "        assert len(has_session_offsets) == len(models_df.loc[key][1:])\n",
    "        session_probs_of_imaging = \\\n",
    "            map(lambda tpl:tpl[1] if tpl[0] else (1.0 - tpl[1]), \n",
    "                zip(has_session_offsets, models_df.loc[key][1:]))\n",
    "\n",
    "        from functools import reduce\n",
    "        priors_results[key] = reduce(lambda p_l,p_r: p_l * p_r, session_probs_of_imaging)\n",
    "    return priors_results\n",
    "\n",
    "priors_by_model([True, True, True, True, False] + [False] * 10)"
   ]
  },
  {
   "cell_type": "code",
   "execution_count": null,
   "metadata": {},
   "outputs": [],
   "source": [
    "def posteriors_by_model(has_session_offsets):\n",
    "    priors_by_models = priors_by_model(has_session_offsets)\n",
    "    posteriors_by_models = {key:priors_by_models[key] * models_df.loc[key][0] for key in models_df.index}\n",
    "    sum_of_posteriors = sum(posteriors_by_models.values())\n",
    "    for key in posteriors_by_models:\n",
    "        posteriors_by_models[key] /= sum_of_posteriors\n",
    "    return posteriors_by_models\n",
    "\n",
    "posteriors_by_model([True, False, True, True, True] + [False, False, False, True, False] * 2)"
   ]
  },
  {
   "cell_type": "code",
   "execution_count": null,
   "metadata": {},
   "outputs": [],
   "source": []
  }
 ],
 "metadata": {
  "kernelspec": {
   "display_name": "Python 3",
   "language": "python",
   "name": "python3"
  },
  "language_info": {
   "codemirror_mode": {
    "name": "ipython",
    "version": 3
   },
   "file_extension": ".py",
   "mimetype": "text/x-python",
   "name": "python",
   "nbconvert_exporter": "python",
   "pygments_lexer": "ipython3",
   "version": "3.8.6"
  }
 },
 "nbformat": 4,
 "nbformat_minor": 2
}
