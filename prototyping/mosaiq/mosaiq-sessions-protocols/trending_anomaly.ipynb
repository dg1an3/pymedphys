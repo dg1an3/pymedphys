{
 "cells": [
  {
   "cell_type": "code",
   "execution_count": null,
   "metadata": {},
   "outputs": [],
   "source": [
    "from pymedphys._imports import numpy as np\n",
    "from pymedphys import mosaiq\n",
    "import sqlalchemy\n",
    "from sqlalchemy import create_engine\n",
    "from pprint import pprint\n",
    "\n",
    "sa_user, sa_password = 'sa', 'sqlServerPassw0rd'\n",
    "sql_server, sql_port = 'localhost', 1433\n",
    "test_db_name, versioned_entities = 'MosaiqTest77008', False\n",
    "\n",
    "connection_string = f\"mssql+pymssql://{sa_user}:{sa_password}@{sql_server}:{sql_port}/{test_db_name}\"\n",
    "engine = create_engine(connection_string)\n",
    "print(engine)"
   ]
  },
  {
   "cell_type": "code",
   "execution_count": null,
   "metadata": {},
   "outputs": [],
   "source": [
    "from sqlalchemy import Table\n",
    "from sqlalchemy.schema import MetaData\n",
    "from sqlalchemy.sql import select\n",
    "\n",
    "meta = MetaData(bind=engine)\n",
    "site_table = Table('Site', meta, autoload=True)\n",
    "offset_table = Table('Offset', meta, autoload=True)\n",
    "\n",
    "site_select = \\\n",
    "    select([site_table.c.SIT_SET_ID, \n",
    "            site_table.c.Pat_ID1, \n",
    "            site_table.c.Site_Name])\n",
    "if versioned_entities:\n",
    "    site_select = site_select.where(site_table.c.Version == 0)\n",
    "    \n",
    "results = engine.execute(site_select)                    \n",
    "list(results)"
   ]
  },
  {
   "cell_type": "code",
   "execution_count": null,
   "metadata": {},
   "outputs": [],
   "source": [
    "from pymedphys._mosaiq.sessions import mean_session_offset_for_site, localization_offset_for_site\n",
    "\n",
    "connection = mosaiq.connect(sql_server, username=sa_user, password=sa_password, database=test_db_name)\n",
    "print(mean_session_offset_for_site(connection, sit_set_id=3))"
   ]
  },
  {
   "cell_type": "code",
   "execution_count": null,
   "metadata": {},
   "outputs": [],
   "source": [
    "from trending_anomaly_model import train_trending_anomaly_model\n",
    "train_trending_anomaly_model(connection)"
   ]
  },
  {
   "cell_type": "code",
   "execution_count": null,
   "metadata": {},
   "outputs": [],
   "source": []
  }
 ],
 "metadata": {
  "kernelspec": {
   "display_name": "pymedphys",
   "language": "python",
   "name": "pymedphys"
  },
  "language_info": {
   "codemirror_mode": {
    "name": "ipython",
    "version": 3
   },
   "file_extension": ".py",
   "mimetype": "text/x-python",
   "name": "python",
   "nbconvert_exporter": "python",
   "pygments_lexer": "ipython3",
   "version": "3.8.6-final"
  }
 },
 "nbformat": 4,
 "nbformat_minor": 4
}
