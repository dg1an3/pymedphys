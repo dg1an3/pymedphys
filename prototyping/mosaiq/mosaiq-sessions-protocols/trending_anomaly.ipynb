{
 "cells": [
  {
   "cell_type": "code",
   "execution_count": null,
   "metadata": {},
   "outputs": [],
   "source": [
    "import numpy as np\n",
    "from pymedphys import mosaiq\n",
    "from pprint import pprint\n",
    "with mosaiq.connect('.') as cursor:\n",
    "    cursor.execute('SELECT SIT_SET_ID, Pat_ID1, Site_Name FROM Site WHERE Version = %s', str(0))\n",
    "    sites = list(cursor)\n",
    "    pprint(sites[19])"
   ]
  },
  {
   "cell_type": "code",
   "execution_count": null,
   "metadata": {},
   "outputs": [],
   "source": [
    "from datetime import datetime, timedelta\n",
    "from sklearn.cluster import AgglomerativeClustering\n",
    "\n",
    "def cluster_sessions(tx_dttms, interval=timedelta(hours=3)):\n",
    "    \"\"\"\n",
    "    \"\"\"\n",
    "    timestamps = [[tx_dttm.timestamp()] for tx_dttm in tx_dttms]\n",
    "    clusterer = AgglomerativeClustering(n_clusters=None, distance_threshold=interval.seconds)\n",
    "    labels = clusterer.fit_predict(timestamps)\n",
    "    current_session_number, current_label = labels[0], 1    \n",
    "    start_session = datetime.fromtimestamp(timestamps[0][0])\n",
    "    end_session = start_session\n",
    "    for label, timestamp in zip(labels, timestamps):\n",
    "        if label != current_label:\n",
    "            yield (current_session_number, start_session, end_session)\n",
    "            current_session_number += 1            \n",
    "            current_label = label\n",
    "            start_session = datetime.fromtimestamp(timestamp[0])\n",
    "            end_session = start_session\n",
    "        else:\n",
    "            end_session = datetime.fromtimestamp(timestamp[0])\n",
    "    yield (current_session_number, start_session, end_session)            \n",
    "        \n",
    "test_dttms = [datetime.now() + timedelta(hours=h) for h in range(10)]\n",
    "\n",
    "print('Date/times:')\n",
    "for dttm in test_dttms:\n",
    "    print('\\t', str(dttm))\n",
    "\n",
    "print('\\nClustered Sessions:')\n",
    "for session in cluster_sessions(test_dttms):\n",
    "    print(f\"\\tSession#{session[0]}: {str(session[1])} to {str(session[2])}\")"
   ]
  },
  {
   "cell_type": "code",
   "execution_count": null,
   "metadata": {},
   "outputs": [],
   "source": [
    "def sessions_for_site(sit_set_id):\n",
    "    \"\"\"\n",
    "    \"\"\"\n",
    "    with mosaiq.connect('.') as cursor:\n",
    "        cursor.execute('SELECT Tx_DtTm FROM Dose_Hst ' \\\n",
    "                        'INNER JOIN Site ON Site.SIT_ID = Dose_Hst.SIT_ID ' \\\n",
    "                        'WHERE Site.SIT_SET_ID = %s ' \\\n",
    "                        'ORDER BY Dose_Hst.Tx_DtTm', sit_set_id)\n",
    "        dose_hst_dttms = [rec[0] for rec in cursor]\n",
    "        return cluster_sessions(dose_hst_dttms)\n",
    "\n",
    "sit_set_id = 19\n",
    "print(f\"Dose_Hst.Tx_DtTm-based session intervals for SIT_SET_ID = {sit_set_id} in Msq db:\")\n",
    "for session in sessions_for_site(19):\n",
    "    print(f\"\\tSession#{session[0]}: {str(session[1])} to {str(session[2])}\")"
   ]
  },
  {
   "cell_type": "code",
   "execution_count": null,
   "metadata": {},
   "outputs": [],
   "source": [
    "def session_offsets_for_site(sit_set_id):\n",
    "    \"\"\"\n",
    "    \"\"\"\n",
    "    samples = []\n",
    "    for session in sessions_for_site(sit_set_id):\n",
    "        with mosaiq.connect('.') as cursor:\n",
    "            start_time_str = (session[1] - timedelta(hours=1)).strftime('%Y-%m-%d %H:%M:%S')\n",
    "            end_time_str = (session[2] + timedelta(hours=1)).strftime('%Y-%m-%d %H:%M:%S')\n",
    "            print(start_time_str)\n",
    "            print(end_time_str)\n",
    "            cursor.execute('SELECT Superior_Offset, Anterior_Offset, Lateral_Offset FROM Offset ' \\\n",
    "                            'WHERE %s < Offset.Study_DtTm ' \\\n",
    "                            'AND Offset.Study_DtTm < %s ' \\\n",
    "                            'ORDER BY Offset.Study_DtTm', (start_time_str, end_time_str))\n",
    "        \n",
    "            # select offset\n",
    "            offsets = list(cursor)\n",
    "            if len(offsets) > 0:\n",
    "                samples.append([session[0]] + list(offsets[0]))\n",
    "    return np.array(samples)\n",
    "\n",
    "print(session_offsets_for_site(19))"
   ]
  },
  {
   "cell_type": "code",
   "execution_count": null,
   "metadata": {},
   "outputs": [],
   "source": [
    "def mean_session_offset_for_site(sit_set_id):\n",
    "    offsets = session_offsets_for_site(sit_set_id)\n",
    "    return np.mean(offsets, 0)\n",
    "print(mean_session_offset_for_site(19))"
   ]
  },
  {
   "cell_type": "code",
   "execution_count": null,
   "metadata": {},
   "outputs": [],
   "source": [
    "def localization_offset_for_site(connection, sit_set_id):\n",
    "    \"\"\"\n",
    "    \"\"\"\n",
    "    cursor = connection.cursor(as_dict=True)\n",
    "    cursor.execute(\"SELECT * \" \\\n",
    "                   \"FROM Offset \" \\\n",
    "                   f\"WHERE {session['start_session'].strftime()} <= Offset.Study_DtTm \" \\\n",
    "                   f\"AND Offset.SIT_SET_ID = {sit_set_id} \")    \n",
    "    localization_offset = list(cursor)[0]\n",
    "    test_offset = np.array([0.0, 0.0, 0.0])\n",
    "    \n",
    "    # determine session for localization offset\n",
    "    return first_session, localization_offset"
   ]
  },
  {
   "cell_type": "code",
   "execution_count": null,
   "metadata": {},
   "outputs": [],
   "source": [
    "def generate_trending_site_records(connection):\n",
    "    cursor = connection.cursor(as_dict=True)\n",
    "    cursor.execute('SELECT * FROM Site WHERE Version = 0')\n",
    "    for site in cursor:\n",
    "        pprint(site)\n",
    "        sessions = sessions_for_site(connection, site)\n",
    "        mean_offset, session_count = mean_offset_for_site(site, sessions)\n",
    "        localization_offset = localization_offset_for_site(connection, site)\n",
    "        yield { 'SIT_SET_ID':site,\n",
    "                'Mean_Offset':mean_offset,\n",
    "                'Session_Count':session_count,\n",
    "                'Localization_Offset':localization_offset }"
   ]
  },
  {
   "cell_type": "code",
   "execution_count": null,
   "metadata": {},
   "outputs": [],
   "source": [
    "# use the from_tesnor_slice to create a generator"
   ]
  },
  {
   "cell_type": "code",
   "execution_count": null,
   "metadata": {
    "tags": [
     "outputPrepend"
    ]
   },
   "outputs": [],
   "source": [
    "import pymedphys\n",
    "with pymedphys.mosaiq.connect('.') as cursor:\n",
    "    cursor.execute('SELECT * FROM Offset WHERE Version = 0')\n",
    "    print(list(cursor))"
   ]
  },
  {
   "cell_type": "code",
   "execution_count": null,
   "metadata": {},
   "outputs": [],
   "source": [
    "import trending_anomaly_model"
   ]
  },
  {
   "cell_type": "code",
   "execution_count": null,
   "metadata": {},
   "outputs": [],
   "source": [
    "dir(trending_anomaly_model)"
   ]
  },
  {
   "cell_type": "code",
   "execution_count": null,
   "metadata": {},
   "outputs": [],
   "source": []
  }
 ],
 "metadata": {
  "kernelspec": {
   "display_name": "Python 3",
   "language": "python",
   "name": "python3"
  },
  "language_info": {
   "codemirror_mode": {
    "name": "ipython",
    "version": 3
   },
   "file_extension": ".py",
   "mimetype": "text/x-python",
   "name": "python",
   "nbconvert_exporter": "python",
   "pygments_lexer": "ipython3",
   "version": "3.8.6"
  }
 },
 "nbformat": 4,
 "nbformat_minor": 4
}
