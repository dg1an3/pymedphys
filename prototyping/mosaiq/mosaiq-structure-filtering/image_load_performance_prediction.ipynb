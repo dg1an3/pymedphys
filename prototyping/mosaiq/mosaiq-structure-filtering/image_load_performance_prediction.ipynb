{
 "cells": [
  {
   "cell_type": "code",
   "execution_count": null,
   "metadata": {},
   "outputs": [],
   "source": [
    "import platform\n",
    "import psutil\n",
    "\n",
    "cpufreq = psutil.cpu_freq()\n",
    "vmem = psutil.virtual_memory()\n",
    "machine_specification = {\n",
    "    'physical_cores': psutil.cpu_count(logical=False),\n",
    "    'logical_cores': psutil.cpu_count(logical=True),\n",
    "    'cpu_speed_Mhz': cpufreq.current,\n",
    "    'l3_cache_Mb': 16,\n",
    "    'system_memory_Gb': vmem.total // (1000 * 1000 * 1000)\n",
    "}\n",
    "print(machine_specification)"
   ]
  },
  {
   "cell_type": "code",
   "execution_count": null,
   "metadata": {},
   "outputs": [],
   "source": [
    "from pathlib import Path\n",
    "\n",
    "import configparser\n",
    "config = configparser.ConfigParser()\n",
    "config.read(Path(os.environ['PUBLIC']) / 'impac.ini')\n",
    "\n",
    "if 'BdsWorkstationSetup' in config:        \n",
    "    print(config['BdsWorkstationSetup']['WorkstationID'], \n",
    "          config['BdsWorkstationSetup']['BdsZoneID'])\n",
    "    storage_specification = {\n",
    "        'bds_location_hops':0,\n",
    "        'sql_location_hops':0,\n",
    "        'network_speed_Gbps':1,\n",
    "    }\n",
    "    \n",
    "if 'Debug' in config:\n",
    "    load_options_ini = {\n",
    "        'load_thumbnails_background': config['Debug']['LoadThumbnailsBackground'],\n",
    "        'load_structures_dicom': config['Debug']['LoadAnatomySetFromDicom'],\n",
    "        'load_persistent_mesh': config['Debug']['LoadPersistentMesh'],        \n",
    "    }\n",
    "else:\n",
    "    load_options_ini = { }\n",
    "    \n",
    "# open sql prefer table\n",
    "load_options_pref = {\n",
    "    'load_structures_foreground':True,\n",
    "    'load_structures_auxiliary_planning':False\n",
    "}\n",
    "\n",
    "load_options = {**load_options_ini, **load_options_pref}"
   ]
  },
  {
   "cell_type": "code",
   "execution_count": null,
   "metadata": {},
   "outputs": [],
   "source": [
    "from pathlib import Path\n",
    "import xml.etree.ElementTree as ET\n",
    "import numpy as np\n",
    "import tensorflow as tf\n",
    "\n",
    "tree = ET.parse(Path('c:') / 'MOSAIQ_APP' / 'x64' / 'minimrtp2.exe.config')\n",
    "root = tree.getroot()\n",
    "root.find('Logger')\n",
    "root.find('Target')\n",
    "\n",
    "log_file = (Path('c:') / 'MOSAIQ_APP' / 'MosaiqLog' / 'MachineName').glob('IFW*.log')\n",
    "with os.open(log_file, 0) as log_f:\n",
    "    for item in log_f:\n",
    "    site_name = 'prostate'\n",
    "    treatment_technique = '4 fld'\n",
    "\n",
    "    # now for each log entry, identify the reference image by ID\n",
    "    ct_resolution = np.array([0.1, 0.1, 0.5])\n",
    "\n",
    "    # match reference CT to VAE\n",
    "\n",
    "    # for each reference structure\n",
    "    tps_software = {    \n",
    "        'modelname':'monaco', \n",
    "        'version':'5.2.1',\n",
    "    }\n",
    "\n",
    "    # calculate the VAE position for the structure\n",
    "    ptv_position, ptv_extent = np.array([10., -20., 30.0]), np.array([3., 4., 2.])\n",
    "    oar_position, oar_extent = np.array([5.0, -10., 30.0]), np.array([1., 1., 2.])\n",
    "\n",
    "    ptv_load_time_msec = 200.0\n",
    "    oar_load_time_msec = 100.0"
   ]
  },
  {
   "cell_type": "code",
   "execution_count": null,
   "metadata": {},
   "outputs": [],
   "source": [
    "# now create the model\n",
    "model = tf.Model()"
   ]
  },
  {
   "cell_type": "code",
   "execution_count": null,
   "metadata": {},
   "outputs": [],
   "source": []
  },
  {
   "cell_type": "code",
   "execution_count": null,
   "metadata": {},
   "outputs": [],
   "source": []
  }
 ],
 "metadata": {
  "kernelspec": {
   "display_name": "pymedphys",
   "language": "python",
   "name": "pymedphys"
  },
  "language_info": {
   "codemirror_mode": {
    "name": "ipython",
    "version": 3
   },
   "file_extension": ".py",
   "mimetype": "text/x-python",
   "name": "python",
   "nbconvert_exporter": "python",
   "pygments_lexer": "ipython3",
   "version": "3.8.6"
  }
 },
 "nbformat": 4,
 "nbformat_minor": 4
}
