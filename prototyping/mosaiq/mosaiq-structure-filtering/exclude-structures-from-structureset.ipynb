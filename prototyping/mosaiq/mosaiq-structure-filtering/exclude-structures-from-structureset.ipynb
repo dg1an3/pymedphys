{
 "cells": [
  {
   "cell_type": "code",
   "execution_count": null,
   "metadata": {},
   "outputs": [],
   "source": [
    "from pymedphys.mosaiq import connect, execute\n",
    "connection = connect('.')"
   ]
  },
  {
   "cell_type": "code",
   "execution_count": null,
   "metadata": {},
   "outputs": [],
   "source": [
    "# iterate through structures and display list of ROI Name = ROI Types\n",
    "# accept input about which to hide"
   ]
  },
  {
   "cell_type": "code",
   "execution_count": null,
   "metadata": {},
   "outputs": [],
   "source": [
    "from pymedphys.imports import pydicom\n",
    "\n",
    "def bds_folder_for_series(connection, dcmseries_id:int):\n",
    "    return \"\"\n",
    "\n",
    "def read_reference_structure_set(connection, sit_set_id:int):\n",
    "    result = execute(connection,\n",
    "        \"\"\"\n",
    "        SELECT \n",
    "            DCMSeriesID\n",
    "        FROM DCMSeries\n",
    "            INNER JOIN DCMStudy ON DCMStudy.StudyID = DCMSeries.DCMStudyID\n",
    "            INNER JOIN Patient ON Patient.Pat_ID1 = DCMStudy.Pat_ID1\n",
    "        WHERE DCMSeries.Modality = 9\n",
    "        \"\"\")    \n",
    "    return pydicom.dcmread('')"
   ]
  },
  {
   "cell_type": "code",
   "execution_count": null,
   "metadata": {},
   "outputs": [],
   "source": [
    "from pathlib import Path\n",
    "examples_path = Path('g:/') / 'Data_Examples_SRO'\n",
    "examples_path = Path('g:/') / 'Data_Examples_MedicalImaging'\n",
    "examples_dcm_files = [path for path in examples_path.glob('**/*') if path.is_file]\n",
    "print(f\"Found {len(examples_dcm_files)} potential dicom files\")"
   ]
  },
  {
   "cell_type": "code",
   "execution_count": null,
   "metadata": {
    "tags": []
   },
   "outputs": [],
   "source": [
    "import pydicom\n",
    "\n",
    "def read_dcm(fns):\n",
    "    for fn in fns:\n",
    "        try: yield pydicom.dcmread(fn)\n",
    "        except Exception: continue\n",
    "\n",
    "datasets = list(read_dcm(examples_dcm_files[20000:50000]))\n",
    "print(f\"Read {len(datasets)} dicom datasets\")\n",
    "print(f\"Found modalities: {set([ds.Modality for ds in datasets if hasattr(ds, 'Modality')])}\")"
   ]
  },
  {
   "cell_type": "code",
   "execution_count": null,
   "metadata": {
    "tags": []
   },
   "outputs": [],
   "source": [
    "from pprint import pprint\n",
    "\n",
    "uid_element_modalities = {}\n",
    "\n",
    "def extract_uids(modality, ds):\n",
    "    try:\n",
    "        for el in ds:\n",
    "            if el.VR == 'UI': \n",
    "                key = f\"{el.tag} = {el.name}\"\n",
    "                if not key in uid_element_modalities:\n",
    "                    uid_element_modalities[key] = { modality }\n",
    "                else:\n",
    "                    uid_element_modalities[key].add(modality)\n",
    "            if el.VR == 'SQ': \n",
    "                for item in el: extract_uids(modality, item)\n",
    "    except Exception:\n",
    "        pass\n",
    "    \n",
    "for ds in datasets:\n",
    "    if hasattr(ds, 'Modality'):\n",
    "        extract_uids(ds.Modality, ds)\n",
    "\n",
    "for uid_element in uid_element_modalities:\n",
    "    print(f\"{uid_element}: {uid_element_modalities[uid_element]}\")"
   ]
  },
  {
   "cell_type": "code",
   "execution_count": null,
   "metadata": {},
   "outputs": [],
   "source": [
    "from pydicom.tag import Tag\n",
    "pprint([(Tag('ReferencedFrameOfReferenceSequence'), 0), Tag('FrameOfReferenceUID')])"
   ]
  },
  {
   "cell_type": "code",
   "execution_count": null,
   "metadata": {},
   "outputs": [],
   "source": [
    "pprint([(Tag('ReferencedFrameOfReferenceSequence'), 0), \n",
    "            (Tag('RTReferencedStudySequence'), 0), \n",
    "            (Tag('RTReferencedSeriesSequence'), 0), \n",
    "            (Tag('ContourImageSequence'), 0),\n",
    "            Tag('ReferencedSOPInstanceUID')])"
   ]
  },
  {
   "cell_type": "code",
   "execution_count": null,
   "metadata": {},
   "outputs": [],
   "source": [
    "from pydicom.datadict import dictionary_VR\n",
    "dictionary_VR(Tag('ReferencedFrameOfReferenceSequence'))"
   ]
  },
  {
   "cell_type": "code",
   "execution_count": null,
   "metadata": {},
   "outputs": [],
   "source": [
    "class DicomRewriter(object):\n",
    "    def __init__(self):\n",
    "        self._original = {}\n",
    "        self._rewritten = {}\n",
    "\n",
    "    def get_original_dataset(self, original_sopinstance_uid):\n",
    "        if original_sopinstance_uid in self._original:\n",
    "            return self._original[original_sopinstance_uid]\n",
    "        return None\n",
    "\n",
    "    def get_rewritten_dataset(self, original_sopinstance_uid):\n",
    "        if original_sopinstance_uid in self._rewritten:\n",
    "            return self._rewritten[original_sopinstance_uid]\n",
    "        if original_sopinstance_uid in self._original:\n",
    "            return self._original[original_sopinstance_uid]\n",
    "        return None\n",
    "\n",
    "    def rewrite(self, original_uid, path):\n",
    "        pass\n"
   ]
  }
 ],
 "metadata": {
  "kernelspec": {
   "display_name": "Python 3",
   "language": "python",
   "name": "python3"
  },
  "language_info": {
   "codemirror_mode": {
    "name": "ipython",
    "version": 3
   },
   "file_extension": ".py",
   "mimetype": "text/x-python",
   "name": "python",
   "nbconvert_exporter": "python",
   "pygments_lexer": "ipython3",
   "version": "3.8.6-final"
  }
 },
 "nbformat": 4,
 "nbformat_minor": 2
}
